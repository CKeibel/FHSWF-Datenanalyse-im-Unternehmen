{
 "cells": [
  {
   "cell_type": "code",
   "execution_count": 1,
   "id": "fb2effe5-c9d2-47fa-993b-23f6aa57795f",
   "metadata": {
    "tags": []
   },
   "outputs": [],
   "source": [
    "#!pip install -U transformers --quiet"
   ]
  },
  {
   "cell_type": "code",
   "execution_count": 2,
   "id": "8835f58f-e141-4858-97b3-30a7b5f5f3fa",
   "metadata": {
    "tags": []
   },
   "outputs": [
    {
     "data": {
      "text/plain": [
       "'4.37.2'"
      ]
     },
     "execution_count": 2,
     "metadata": {},
     "output_type": "execute_result"
    }
   ],
   "source": [
    "import transformers\n",
    "transformers.__version__"
   ]
  },
  {
   "cell_type": "code",
   "execution_count": 3,
   "id": "aa331001-b6ef-4bbe-8884-d692f4b9e06a",
   "metadata": {
    "tags": []
   },
   "outputs": [],
   "source": [
    "from model import EncoderModel, DecoderModel"
   ]
  },
  {
   "cell_type": "code",
   "execution_count": 4,
   "id": "7d70e5d6-a297-4eed-9897-5e3bbc6771d1",
   "metadata": {
    "tags": []
   },
   "outputs": [],
   "source": [
    "from transformers import AutoModel, AutoTokenizer, AutoModelForCausalLM, GenerationConfig\n",
    "import torch\n",
    "import torch.nn.functional as F\n",
    "from pprint import pprint\n",
    "import pandas as pd\n",
    "import matplotlib.pyplot as plt\n",
    "import seaborn as sns"
   ]
  },
  {
   "cell_type": "code",
   "execution_count": 5,
   "id": "eb021b4e-8d67-4960-b8a6-d09f28b4592f",
   "metadata": {
    "tags": []
   },
   "outputs": [
    {
     "data": {
      "text/plain": [
       "device(type='cuda')"
      ]
     },
     "execution_count": 5,
     "metadata": {},
     "output_type": "execute_result"
    }
   ],
   "source": [
    "device = torch.device(\"cuda\" if torch.cuda.is_available() else \"cpu\")\n",
    "device"
   ]
  },
  {
   "cell_type": "markdown",
   "id": "a10bef43-1e0d-41f9-a330-4c335c6dad43",
   "metadata": {},
   "source": [
    "# Encoder"
   ]
  },
  {
   "cell_type": "code",
   "execution_count": 6,
   "id": "ac98febc-202c-45e1-a6fc-83396073305e",
   "metadata": {
    "tags": []
   },
   "outputs": [
    {
     "name": "stderr",
     "output_type": "stream",
     "text": [
      "/opt/conda/lib/python3.10/site-packages/torch/_utils.py:776: UserWarning: TypedStorage is deprecated. It will be removed in the future and UntypedStorage will be the only storage class. This should only matter to you if you are using storages directly.  To access UntypedStorage directly, use tensor.untyped_storage() instead of tensor.storage()\n",
      "  return self.fget.__get__(instance, owner)()\n"
     ]
    }
   ],
   "source": [
    "model_id = \"sentence-transformers/all-MiniLM-L6-v2\"\n",
    "encoder = EncoderModel(model_id, device)"
   ]
  },
  {
   "cell_type": "code",
   "execution_count": 7,
   "id": "a316d666-7791-4cd8-8feb-2b160c01844d",
   "metadata": {
    "tags": []
   },
   "outputs": [],
   "source": [
    "sentences = [\"Hello World\", \"Hello Mars\", \"Transformers are awesome\"]\n",
    "vectors = encoder(sentences)"
   ]
  },
  {
   "cell_type": "code",
   "execution_count": 8,
   "id": "185035c2-2733-4ad2-8821-6c289348b7b2",
   "metadata": {
    "tags": []
   },
   "outputs": [],
   "source": [
    "from sklearn.metrics.pairwise import cosine_similarity\n",
    "\n",
    "similarity_scores = cosine_similarity(vectors)"
   ]
  },
  {
   "cell_type": "code",
   "execution_count": 9,
   "id": "b1c649a7-e769-4eb4-ace1-55ea521c03e5",
   "metadata": {
    "tags": []
   },
   "outputs": [
    {
     "data": {
      "text/plain": [
       "array([[1.0000002 , 0.5999794 , 0.1535384 ],\n",
       "       [0.5999794 , 1.0000002 , 0.17221901],\n",
       "       [0.1535384 , 0.17221901, 1.0000001 ]], dtype=float32)"
      ]
     },
     "execution_count": 9,
     "metadata": {},
     "output_type": "execute_result"
    }
   ],
   "source": [
    "similarity_scores"
   ]
  },
  {
   "cell_type": "code",
   "execution_count": 10,
   "id": "2e5f05d8-d67e-406a-96e5-1ca71ef987eb",
   "metadata": {
    "tags": []
   },
   "outputs": [
    {
     "data": {
      "image/png": "[encoded data removed]",
      "text/plain": [
       "<Figure size 640x480 with 2 Axes>"
      ]
     },
     "metadata": {},
     "output_type": "display_data"
    }
   ],
   "source": [
    "df_cm = pd.DataFrame(similarity_scores, index=sentences, columns=sentences)\n",
    "sns.heatmap(df_cm, annot=True)\n",
    "plt.show()"
   ]
  },
  {
   "cell_type": "markdown",
   "id": "750c1a2a-8ed1-4c02-8131-01a8c21d577e",
   "metadata": {},
   "source": [
    "# Decoder"
   ]
  },
  {
   "cell_type": "code",
   "execution_count": 11,
   "id": "746d0dc6-d4ac-4dbd-a529-4b929ca1c640",
   "metadata": {
    "tags": []
   },
   "outputs": [
    {
     "data": {
      "text/plain": [
       "GenerationConfig {\n",
       "  \"bos_token_id\": 1,\n",
       "  \"eos_token_id\": 2\n",
       "}"
      ]
     },
     "execution_count": 11,
     "metadata": {},
     "output_type": "execute_result"
    }
   ],
   "source": [
    "model_id = \"HuggingFaceH4/zephyr-7b-beta\"\n",
    "gen_cfg = GenerationConfig.from_pretrained(model_id)\n",
    "gen_cfg"
   ]
  },
  {
   "cell_type": "code",
   "execution_count": 12,
   "id": "c538983f-6958-484f-af30-c05458f6a686",
   "metadata": {
    "tags": []
   },
   "outputs": [
    {
     "data": {
      "text/plain": [
       "2"
      ]
     },
     "execution_count": 12,
     "metadata": {},
     "output_type": "execute_result"
    }
   ],
   "source": [
    "tokenizer = AutoTokenizer.from_pretrained(model_id)\n",
    "tokenizer.pad_token_id"
   ]
  },
  {
   "cell_type": "code",
   "execution_count": 13,
   "id": "de8f1c9b-be36-4da5-98b3-d72bb7115a70",
   "metadata": {
    "tags": []
   },
   "outputs": [
    {
     "data": {
      "application/vnd.jupyter.widget-view+json": {
       "model_id": "7e1cb2c786a048b18c7930f769e8644a",
       "version_major": 2,
       "version_minor": 0
      },
      "text/plain": [
       "Loading checkpoint shards:   0%|          | 0/8 [00:00<?, ?it/s]"
      ]
     },
     "metadata": {},
     "output_type": "display_data"
    }
   ],
   "source": [
    "model_id = \"HuggingFaceH4/zephyr-7b-beta\"\n",
    "causal_lm = DecoderModel(model_id, device=\"cuda:0\", torch_dtype=torch.bfloat16)"
   ]
  },
  {
   "cell_type": "code",
   "execution_count": 14,
   "id": "3962a112-aee9-4ec5-b4b6-03ee08c1a4d2",
   "metadata": {
    "tags": []
   },
   "outputs": [
    {
     "name": "stdout",
     "output_type": "stream",
     "text": [
      "('Based on the context provided, the person being asked is doing well. '\n",
      " 'Therefore, the appropriate response would be:\\n'\n",
      " '\\n'\n",
      " 'You are doing well, thank you for asking. Alternatively, you could ask the '\n",
      " 'person for more details about how they are doing')\n"
     ]
    }
   ],
   "source": [
    "pprint(causal_lm(question=\"How are you doing?\", context=\"I am doing good.\"))"
   ]
  }
 ],
 "metadata": {
  "kernelspec": {
   "display_name": "Python 3 (ipykernel)",
   "language": "python",
   "name": "python3"
  },
  "language_info": {
   "codemirror_mode": {
    "name": "ipython",
    "version": 3
   },
   "file_extension": ".py",
   "mimetype": "text/x-python",
   "name": "python",
   "nbconvert_exporter": "python",
   "pygments_lexer": "ipython3",
   "version": "3.10.11"
  }
 },
 "nbformat": 4,
 "nbformat_minor": 5
}

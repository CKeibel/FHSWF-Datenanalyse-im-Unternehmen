{
 "cells": [
  {
   "cell_type": "code",
   "execution_count": 1,
   "id": "0d974a0d-b861-44d1-a1f0-b1e133953bd2",
   "metadata": {
    "tags": []
   },
   "outputs": [],
   "source": [
    "#!python -m pip install -U transformers chromadb --quiet"
   ]
  },
  {
   "cell_type": "code",
   "execution_count": 2,
   "id": "2c9cdf38-2202-4f70-9a17-f9dd3046616f",
   "metadata": {
    "tags": []
   },
   "outputs": [
    {
     "data": {
      "text/plain": [
       "'4.38.1'"
      ]
     },
     "execution_count": 2,
     "metadata": {},
     "output_type": "execute_result"
    }
   ],
   "source": [
    "import transformers\n",
    "\n",
    "transformers.__version__"
   ]
  },
  {
   "cell_type": "code",
   "execution_count": 3,
   "id": "ae0b1625-7074-40de-aa8d-6bfa517ee9ca",
   "metadata": {
    "tags": []
   },
   "outputs": [],
   "source": [
    "import chromadb\n",
    "from model import EncoderModel\n",
    "import torch"
   ]
  },
  {
   "cell_type": "code",
   "execution_count": 4,
   "id": "e1f4a8be-32e9-4a67-9078-0d141fdee78b",
   "metadata": {
    "tags": []
   },
   "outputs": [],
   "source": [
    "device = \"cuda\" if torch.cuda.is_available() else \"cpu\""
   ]
  },
  {
   "cell_type": "code",
   "execution_count": 5,
   "id": "528ee10f-3ffe-4c6b-8a74-0b022f9c54d4",
   "metadata": {
    "tags": []
   },
   "outputs": [
    {
     "name": "stderr",
     "output_type": "stream",
     "text": [
      "/opt/conda/lib/python3.10/site-packages/torch/_utils.py:776: UserWarning: TypedStorage is deprecated. It will be removed in the future and UntypedStorage will be the only storage class. This should only matter to you if you are using storages directly.  To access UntypedStorage directly, use tensor.untyped_storage() instead of tensor.storage()\n",
      "  return self.fget.__get__(instance, owner)()\n"
     ]
    }
   ],
   "source": [
    "model_id = \"sentence-transformers/all-MiniLM-L6-v2\"\n",
    "encoder = EncoderModel(model_id, device)"
   ]
  },
  {
   "cell_type": "code",
   "execution_count": 6,
   "id": "2d78a1ca-5fa2-4074-be17-a8ed31945cc7",
   "metadata": {
    "tags": []
   },
   "outputs": [],
   "source": [
    "sentences = [\"Hello World\", \"Hello Mars\", \"Transformers are awesome\"]\n",
    "vectors = encoder(sentences)"
   ]
  },
  {
   "cell_type": "code",
   "execution_count": 7,
   "id": "f6249bdb-041d-4af5-bfcf-346b6a7a7179",
   "metadata": {
    "tags": []
   },
   "outputs": [
    {
     "data": {
      "text/plain": [
       "['0', '1', '2']"
      ]
     },
     "execution_count": 7,
     "metadata": {},
     "output_type": "execute_result"
    }
   ],
   "source": [
    "ids = [str(i) for i, _ in enumerate(sentences)]\n",
    "ids"
   ]
  },
  {
   "cell_type": "code",
   "execution_count": 8,
   "id": "a1248a7c-e645-427e-9431-b7aa8f04451b",
   "metadata": {
    "tags": []
   },
   "outputs": [
    {
     "data": {
      "text/plain": [
       "(384,)"
      ]
     },
     "execution_count": 8,
     "metadata": {},
     "output_type": "execute_result"
    }
   ],
   "source": [
    "vectors[0].shape"
   ]
  },
  {
   "cell_type": "code",
   "execution_count": 9,
   "id": "efe72015-b03d-40d7-bff2-86fc4163df0e",
   "metadata": {
    "tags": []
   },
   "outputs": [
    {
     "name": "stderr",
     "output_type": "stream",
     "text": [
      "Number of requested results 10 is greater than number of elements in index 3, updating n_results = 3\n"
     ]
    },
    {
     "data": {
      "text/plain": [
       "{'ids': [['0', '1', '2']],\n",
       " 'distances': [[-1.1920928955078125e-07,\n",
       "   0.4000204801559448,\n",
       "   0.8464615941047668]],\n",
       " 'metadatas': [[None, None, None]],\n",
       " 'embeddings': None,\n",
       " 'documents': [['Hello World', 'Hello Mars', 'Transformers are awesome']],\n",
       " 'uris': None,\n",
       " 'data': None}"
      ]
     },
     "execution_count": 9,
     "metadata": {},
     "output_type": "execute_result"
    }
   ],
   "source": [
    "chroma_client = chromadb.Client()\n",
    "collection = chroma_client.create_collection(name=\"test\", metadata={\"hnsw:space\": \"cosine\"})\n",
    "\n",
    "collection.add(\n",
    "    embeddings=vectors,\n",
    "    documents=sentences,\n",
    "    ids=ids\n",
    ")\n",
    "\n",
    "result = collection.query(\n",
    "    query_embeddings=vectors[0].tolist(),\n",
    ")\n",
    "chroma_client.delete_collection(name=\"test\")\n",
    "result"
   ]
  },
  {
   "cell_type": "code",
   "execution_count": 10,
   "id": "a3f524d8-8a3c-4d9d-bfe0-ae3769dac202",
   "metadata": {
    "tags": []
   },
   "outputs": [
    {
     "name": "stderr",
     "output_type": "stream",
     "text": [
      "Number of requested results 10 is greater than number of elements in index 3, updating n_results = 3\n"
     ]
    },
    {
     "data": {
      "text/plain": [
       "{'ids': [['0', '1', '2']],\n",
       " 'distances': [[0.0, 0.800041139125824, 1.6929233074188232]],\n",
       " 'metadatas': [[None, None, None]],\n",
       " 'embeddings': None,\n",
       " 'documents': [['Hello World', 'Hello Mars', 'Transformers are awesome']],\n",
       " 'uris': None,\n",
       " 'data': None}"
      ]
     },
     "execution_count": 10,
     "metadata": {},
     "output_type": "execute_result"
    }
   ],
   "source": [
    "chroma_client = chromadb.Client()\n",
    "collection = chroma_client.create_collection(name=\"test\", metadata={\"hnsw:space\": \"l2\"})\n",
    "\n",
    "collection.add(\n",
    "    embeddings=vectors,\n",
    "    documents=sentences,\n",
    "    ids=ids\n",
    ")\n",
    "\n",
    "result = collection.query(\n",
    "    query_embeddings=vectors[0].tolist(),\n",
    ")\n",
    "chroma_client.delete_collection(name=\"test\")\n",
    "result"
   ]
  },
  {
   "cell_type": "code",
   "execution_count": 11,
   "id": "9b8a4b2a-24d1-4bcb-a3cf-60958c6b9404",
   "metadata": {
    "tags": []
   },
   "outputs": [
    {
     "name": "stderr",
     "output_type": "stream",
     "text": [
      "Number of requested results 10 is greater than number of elements in index 3, updating n_results = 3\n"
     ]
    },
    {
     "data": {
      "text/plain": [
       "{'ids': [['0', '1', '2']],\n",
       " 'distances': [[0.0, 0.40002065896987915, 0.8464615941047668]],\n",
       " 'metadatas': [[None, None, None]],\n",
       " 'embeddings': None,\n",
       " 'documents': [['Hello World', 'Hello Mars', 'Transformers are awesome']],\n",
       " 'uris': None,\n",
       " 'data': None}"
      ]
     },
     "execution_count": 11,
     "metadata": {},
     "output_type": "execute_result"
    }
   ],
   "source": [
    "chroma_client = chromadb.Client()\n",
    "collection = chroma_client.create_collection(name=\"test\", metadata={\"hnsw:space\": \"ip\"})\n",
    "\n",
    "collection.add(\n",
    "    embeddings=vectors,\n",
    "    documents=sentences,\n",
    "    ids=ids\n",
    ")\n",
    "\n",
    "result = collection.query(\n",
    "    query_embeddings=vectors[0].tolist(),\n",
    ")\n",
    "chroma_client.delete_collection(name=\"test\")\n",
    "result"
   ]
  }
 ],
 "metadata": {
  "kernelspec": {
   "display_name": "Python 3 (ipykernel)",
   "language": "python",
   "name": "python3"
  },
  "language_info": {
   "codemirror_mode": {
    "name": "ipython",
    "version": 3
   },
   "file_extension": ".py",
   "mimetype": "text/x-python",
   "name": "python",
   "nbconvert_exporter": "python",
   "pygments_lexer": "ipython3",
   "version": "3.10.11"
  }
 },
 "nbformat": 4,
 "nbformat_minor": 5
}

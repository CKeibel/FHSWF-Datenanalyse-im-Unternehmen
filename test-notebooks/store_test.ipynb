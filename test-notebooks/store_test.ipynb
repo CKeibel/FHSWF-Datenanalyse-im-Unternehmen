{
 "cells": [
  {
   "cell_type": "code",
   "execution_count": 1,
   "id": "2867475d-86ff-4f03-9a52-c3d24fd9a30a",
   "metadata": {
    "tags": []
   },
   "outputs": [
    {
     "name": "stderr",
     "output_type": "stream",
     "text": [
      "[nltk_data] Downloading package wordnet to /home/chkei001/nltk_data...\n",
      "[nltk_data]   Package wordnet is already up-to-date!\n"
     ]
    }
   ],
   "source": [
    "from store import VectorStore"
   ]
  },
  {
   "cell_type": "code",
   "execution_count": 2,
   "id": "01a5c1b4-1ea6-40b4-8f23-1b82a814f7db",
   "metadata": {
    "tags": []
   },
   "outputs": [
    {
     "name": "stderr",
     "output_type": "stream",
     "text": [
      "/opt/conda/lib/python3.10/site-packages/torch/_utils.py:776: UserWarning: TypedStorage is deprecated. It will be removed in the future and UntypedStorage will be the only storage class. This should only matter to you if you are using storages directly.  To access UntypedStorage directly, use tensor.untyped_storage() instead of tensor.storage()\n",
      "  return self.fget.__get__(instance, owner)()\n"
     ]
    }
   ],
   "source": [
    "db = VectorStore(\"sentence-transformers/all-MiniLM-L6-v2\", hybrid=True)"
   ]
  },
  {
   "cell_type": "code",
   "execution_count": 3,
   "id": "ec1376c8-ac26-4743-b603-b67e68bfede8",
   "metadata": {
    "tags": []
   },
   "outputs": [],
   "source": [
    "db.add_documents([\"Hello World\", \"Hello Mars\", \"Transformers are awesome\"])"
   ]
  },
  {
   "cell_type": "code",
   "execution_count": 4,
   "id": "d8d3a1ff-ecf3-452e-8fa8-daf7a614007d",
   "metadata": {
    "tags": []
   },
   "outputs": [
    {
     "data": {
      "text/plain": [
       "[{'score': 0.9200567079097866, 'document': 'Hello World', 'id': 0},\n",
       " {'score': 0.3257511107955615, 'document': 'Hello Mars', 'id': 1},\n",
       " {'score': 0.06526640839693038,\n",
       "  'document': 'Transformers are awesome',\n",
       "  'id': 2}]"
      ]
     },
     "execution_count": 4,
     "metadata": {},
     "output_type": "execute_result"
    }
   ],
   "source": [
    "db.search(\"Hello World\", 3)"
   ]
  },
  {
   "cell_type": "code",
   "execution_count": 5,
   "id": "075b54ef-7005-4bc5-8824-1994fea35e71",
   "metadata": {
    "tags": []
   },
   "outputs": [
    {
     "data": {
      "text/plain": [
       "[{'score': 0.9200566980098539, 'document': 'Hello World', 'id': 0},\n",
       " {'score': 0.3257511274812446, 'document': 'Hello Mars', 'id': 1},\n",
       " {'score': 0.06526640767310858,\n",
       "  'document': 'Transformers are awesome',\n",
       "  'id': 2}]"
      ]
     },
     "execution_count": 5,
     "metadata": {},
     "output_type": "execute_result"
    }
   ],
   "source": [
    "db.distance_metric = \"ip\"\n",
    "db.search(\"Hello World\", 3)"
   ]
  },
  {
   "cell_type": "code",
   "execution_count": 6,
   "id": "7ff6b6da-3ba4-4465-a63e-7e52f56bb096",
   "metadata": {
    "tags": []
   },
   "outputs": [
    {
     "data": {
      "text/plain": [
       "[{'score': 0.994974582179706, 'document': 'Hello World', 'id': 0},\n",
       " {'score': 0.28746183532376346, 'document': 'Hello Mars', 'id': 1},\n",
       " {'score': 0.0879683348875625,\n",
       "  'document': 'Transformers are awesome',\n",
       "  'id': 2}]"
      ]
     },
     "execution_count": 6,
     "metadata": {},
     "output_type": "execute_result"
    }
   ],
   "source": [
    "db.distance_metric = \"l2\"\n",
    "db.search(\"Hello World\", 3)"
   ]
  },
  {
   "cell_type": "code",
   "execution_count": 9,
   "id": "1a9a35c2-c2f7-4537-b9e1-c1ca0d60dbbd",
   "metadata": {
    "tags": []
   },
   "outputs": [
    {
     "data": {
      "text/plain": [
       "[{'score': 0.837234550667312, 'document': 'Transformers are awesome', 'id': 2},\n",
       " {'score': 0.16651720254310687, 'document': 'Hello Mars', 'id': 1},\n",
       " {'score': 0.16489310316877548, 'document': 'Hello World', 'id': 0}]"
      ]
     },
     "execution_count": 9,
     "metadata": {},
     "output_type": "execute_result"
    }
   ],
   "source": [
    "db.search(\"Transformers\", 3)"
   ]
  }
 ],
 "metadata": {
  "kernelspec": {
   "display_name": "Python 3 (ipykernel)",
   "language": "python",
   "name": "python3"
  },
  "language_info": {
   "codemirror_mode": {
    "name": "ipython",
    "version": 3
   },
   "file_extension": ".py",
   "mimetype": "text/x-python",
   "name": "python",
   "nbconvert_exporter": "python",
   "pygments_lexer": "ipython3",
   "version": "3.10.11"
  }
 },
 "nbformat": 4,
 "nbformat_minor": 5
}
